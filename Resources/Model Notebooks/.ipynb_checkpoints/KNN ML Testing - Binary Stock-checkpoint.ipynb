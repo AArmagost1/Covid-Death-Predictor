{
 "cells": [
  {
   "cell_type": "code",
   "execution_count": 1,
   "id": "2e6aa0e4",
   "metadata": {},
   "outputs": [],
   "source": [
    "import matplotlib.pyplot as plt\n",
    "from sklearn.neighbors import KNeighborsClassifier\n",
    "from sklearn.model_selection import train_test_split\n",
    "import pandas as pd\n",
    "import numpy as np\n",
    "import os"
   ]
  },
  {
   "cell_type": "code",
   "execution_count": 2,
   "id": "886e3c3a",
   "metadata": {
    "scrolled": true
   },
   "outputs": [
    {
     "data": {
      "text/html": [
       "<div>\n",
       "<style scoped>\n",
       "    .dataframe tbody tr th:only-of-type {\n",
       "        vertical-align: middle;\n",
       "    }\n",
       "\n",
       "    .dataframe tbody tr th {\n",
       "        vertical-align: top;\n",
       "    }\n",
       "\n",
       "    .dataframe thead th {\n",
       "        text-align: right;\n",
       "    }\n",
       "</style>\n",
       "<table border=\"1\" class=\"dataframe\">\n",
       "  <thead>\n",
       "    <tr style=\"text-align: right;\">\n",
       "      <th></th>\n",
       "      <th>Binary_Class</th>\n",
       "      <th>Search Date</th>\n",
       "      <th>alcoholism</th>\n",
       "      <th>anxiety</th>\n",
       "      <th>athleisure</th>\n",
       "      <th>cutting hair</th>\n",
       "      <th>depression</th>\n",
       "      <th>dry cough</th>\n",
       "      <th>eczema</th>\n",
       "      <th>fever</th>\n",
       "      <th>...</th>\n",
       "      <th>PFE_Difference</th>\n",
       "      <th>PFE_Volume</th>\n",
       "      <th>AZN_Open</th>\n",
       "      <th>AZN_Close</th>\n",
       "      <th>AZN_Difference</th>\n",
       "      <th>AZN_Volume</th>\n",
       "      <th>NVAX_Open</th>\n",
       "      <th>NVAX_Close</th>\n",
       "      <th>NVAX_Difference</th>\n",
       "      <th>NVAX_Volume</th>\n",
       "    </tr>\n",
       "  </thead>\n",
       "  <tbody>\n",
       "    <tr>\n",
       "      <th>751</th>\n",
       "      <td>Low</td>\n",
       "      <td>2020-01-24</td>\n",
       "      <td>52</td>\n",
       "      <td>78</td>\n",
       "      <td>42</td>\n",
       "      <td>22</td>\n",
       "      <td>75</td>\n",
       "      <td>16</td>\n",
       "      <td>72</td>\n",
       "      <td>38</td>\n",
       "      <td>...</td>\n",
       "      <td>-0.05</td>\n",
       "      <td>20875735.0</td>\n",
       "      <td>48.62</td>\n",
       "      <td>48.51</td>\n",
       "      <td>0.11</td>\n",
       "      <td>1990900.0</td>\n",
       "      <td>7.26</td>\n",
       "      <td>6.81</td>\n",
       "      <td>0.45</td>\n",
       "      <td>4195600.0</td>\n",
       "    </tr>\n",
       "    <tr>\n",
       "      <th>750</th>\n",
       "      <td>Low</td>\n",
       "      <td>2020-01-25</td>\n",
       "      <td>39</td>\n",
       "      <td>69</td>\n",
       "      <td>14</td>\n",
       "      <td>33</td>\n",
       "      <td>56</td>\n",
       "      <td>19</td>\n",
       "      <td>84</td>\n",
       "      <td>42</td>\n",
       "      <td>...</td>\n",
       "      <td>0.37</td>\n",
       "      <td>31150865.0</td>\n",
       "      <td>48.76</td>\n",
       "      <td>48.76</td>\n",
       "      <td>0.00</td>\n",
       "      <td>1698800.0</td>\n",
       "      <td>6.63</td>\n",
       "      <td>7.01</td>\n",
       "      <td>-0.38</td>\n",
       "      <td>4168300.0</td>\n",
       "    </tr>\n",
       "    <tr>\n",
       "      <th>749</th>\n",
       "      <td>Low</td>\n",
       "      <td>2020-01-26</td>\n",
       "      <td>38</td>\n",
       "      <td>69</td>\n",
       "      <td>41</td>\n",
       "      <td>23</td>\n",
       "      <td>55</td>\n",
       "      <td>16</td>\n",
       "      <td>61</td>\n",
       "      <td>39</td>\n",
       "      <td>...</td>\n",
       "      <td>-0.30</td>\n",
       "      <td>29443490.0</td>\n",
       "      <td>49.46</td>\n",
       "      <td>49.73</td>\n",
       "      <td>-0.27</td>\n",
       "      <td>2303000.0</td>\n",
       "      <td>6.90</td>\n",
       "      <td>6.97</td>\n",
       "      <td>-0.07</td>\n",
       "      <td>2158500.0</td>\n",
       "    </tr>\n",
       "    <tr>\n",
       "      <th>748</th>\n",
       "      <td>Low</td>\n",
       "      <td>2020-01-27</td>\n",
       "      <td>48</td>\n",
       "      <td>82</td>\n",
       "      <td>22</td>\n",
       "      <td>24</td>\n",
       "      <td>80</td>\n",
       "      <td>18</td>\n",
       "      <td>60</td>\n",
       "      <td>40</td>\n",
       "      <td>...</td>\n",
       "      <td>0.17</td>\n",
       "      <td>21047748.0</td>\n",
       "      <td>49.69</td>\n",
       "      <td>50.03</td>\n",
       "      <td>-0.34</td>\n",
       "      <td>2531000.0</td>\n",
       "      <td>6.89</td>\n",
       "      <td>6.84</td>\n",
       "      <td>0.05</td>\n",
       "      <td>1457600.0</td>\n",
       "    </tr>\n",
       "    <tr>\n",
       "      <th>747</th>\n",
       "      <td>Low</td>\n",
       "      <td>2020-01-28</td>\n",
       "      <td>44</td>\n",
       "      <td>86</td>\n",
       "      <td>41</td>\n",
       "      <td>22</td>\n",
       "      <td>86</td>\n",
       "      <td>17</td>\n",
       "      <td>63</td>\n",
       "      <td>44</td>\n",
       "      <td>...</td>\n",
       "      <td>0.29</td>\n",
       "      <td>21903596.0</td>\n",
       "      <td>49.89</td>\n",
       "      <td>49.40</td>\n",
       "      <td>0.49</td>\n",
       "      <td>1995500.0</td>\n",
       "      <td>6.76</td>\n",
       "      <td>6.31</td>\n",
       "      <td>0.45</td>\n",
       "      <td>2607200.0</td>\n",
       "    </tr>\n",
       "  </tbody>\n",
       "</table>\n",
       "<p>5 rows × 104 columns</p>\n",
       "</div>"
      ],
      "text/plain": [
       "    Binary_Class Search Date  alcoholism  anxiety  athleisure  cutting hair  \\\n",
       "751          Low  2020-01-24          52       78          42            22   \n",
       "750          Low  2020-01-25          39       69          14            33   \n",
       "749          Low  2020-01-26          38       69          41            23   \n",
       "748          Low  2020-01-27          48       82          22            24   \n",
       "747          Low  2020-01-28          44       86          41            22   \n",
       "\n",
       "     depression  dry cough  eczema  fever  ...  PFE_Difference  PFE_Volume  \\\n",
       "751          75         16      72     38  ...           -0.05  20875735.0   \n",
       "750          56         19      84     42  ...            0.37  31150865.0   \n",
       "749          55         16      61     39  ...           -0.30  29443490.0   \n",
       "748          80         18      60     40  ...            0.17  21047748.0   \n",
       "747          86         17      63     44  ...            0.29  21903596.0   \n",
       "\n",
       "     AZN_Open  AZN_Close  AZN_Difference  AZN_Volume   NVAX_Open   \\\n",
       "751     48.62      48.51            0.11   1990900.0         7.26   \n",
       "750     48.76      48.76            0.00   1698800.0         6.63   \n",
       "749     49.46      49.73           -0.27   2303000.0         6.90   \n",
       "748     49.69      50.03           -0.34   2531000.0         6.89   \n",
       "747     49.89      49.40            0.49   1995500.0         6.76   \n",
       "\n",
       "      NVAX_Close   NVAX_Difference  NVAX_Volume  \n",
       "751          6.81             0.45    4195600.0  \n",
       "750          7.01            -0.38    4168300.0  \n",
       "749          6.97            -0.07    2158500.0  \n",
       "748          6.84             0.05    1457600.0  \n",
       "747          6.31             0.45    2607200.0  \n",
       "\n",
       "[5 rows x 104 columns]"
      ]
     },
     "execution_count": 2,
     "metadata": {},
     "output_type": "execute_result"
    }
   ],
   "source": [
    "# binary trend model data\n",
    "binary_stock = pd.read_csv(os.path.join(\"../\", \"Model Data\", \"binary_outcome_with_stock.csv\"))\n",
    "binary_stock = binary_stock.drop(columns = ['Unnamed: 0', 'Unnamed: 0.1', 'Date'])\n",
    "binary_stock.dropna(inplace=True)\n",
    "binary_stock.sort_values(by='Search Date').head()\n"
   ]
  },
  {
   "cell_type": "code",
   "execution_count": 3,
   "id": "fa413a94",
   "metadata": {},
   "outputs": [],
   "source": [
    "x = binary_stock.drop([\"Binary_Class\", \"Search Date\", \"DJIA_Open\", \"DJIA_Close\", \"DJIA_Difference\", \"DJIA_Volume\"], axis=1)\n",
    "#x.head()\n",
    "\n",
    "y = binary_stock['Binary_Class']"
   ]
  },
  {
   "cell_type": "code",
   "execution_count": 11,
   "id": "425132d8",
   "metadata": {},
   "outputs": [],
   "source": [
    "#x.info(verbose=True)"
   ]
  },
  {
   "cell_type": "code",
   "execution_count": 5,
   "id": "24c94f25",
   "metadata": {},
   "outputs": [],
   "source": [
    "x_train, x_test, y_train, y_test = train_test_split(x, y, random_state=42)"
   ]
  },
  {
   "cell_type": "code",
   "execution_count": 6,
   "id": "9109cc8d",
   "metadata": {},
   "outputs": [],
   "source": [
    "#scale the data\n",
    "from sklearn.preprocessing import StandardScaler\n",
    "\n",
    "x_scaler = StandardScaler().fit(x_train)"
   ]
  },
  {
   "cell_type": "code",
   "execution_count": 7,
   "id": "b6de58d8",
   "metadata": {},
   "outputs": [],
   "source": [
    "#transform the training and testing data by using the x_scaler and y_sclaler models\n",
    "x_train_scaled = x_scaler.transform(x_train)\n",
    "x_test_scaled = x_scaler.transform(x_test)"
   ]
  },
  {
   "cell_type": "code",
   "execution_count": 8,
   "id": "57ce3ee7",
   "metadata": {},
   "outputs": [
    {
     "name": "stdout",
     "output_type": "stream",
     "text": [
      "k: 1, Train/Test Score: 1.00/0.81\n",
      "k: 3, Train/Test Score: 0.87/0.78\n",
      "k: 5, Train/Test Score: 0.86/0.81\n",
      "k: 7, Train/Test Score: 0.85/0.82\n",
      "k: 9, Train/Test Score: 0.85/0.82\n",
      "k: 11, Train/Test Score: 0.86/0.84\n",
      "k: 13, Train/Test Score: 0.85/0.83\n",
      "k: 15, Train/Test Score: 0.84/0.83\n",
      "k: 17, Train/Test Score: 0.84/0.84\n",
      "k: 19, Train/Test Score: 0.85/0.84\n"
     ]
    },
    {
     "data": {
      "image/png": "[encoded data removed]",
      "text/plain": [
       "<Figure size 432x288 with 1 Axes>"
      ]
     },
     "metadata": {
      "needs_background": "light"
     },
     "output_type": "display_data"
    },
    {
     "name": "stdout",
     "output_type": "stream",
     "text": [
      "0.8515625\n",
      "0.8372093023255814\n"
     ]
    }
   ],
   "source": [
    "# loop through different k values to find which has the highest accuracy\n",
    "# only odd numbers\n",
    "train_scores =[]\n",
    "test_scores = []\n",
    "for k in range (1, 20,2):\n",
    "    knn = KNeighborsClassifier(n_neighbors=k)\n",
    "    knn.fit(x_train, y_train)\n",
    "    train_score = knn.score(x_train, y_train)\n",
    "    test_score = knn.score(x_test, y_test)\n",
    "    train_scores.append(train_score)\n",
    "    test_scores.append(test_score)\n",
    "    print(f\"k: {k}, Train/Test Score: {train_score:.2f}/{test_score:.2f}\")\n",
    "\n",
    "plt.plot(range(1,20,2), train_scores, marker='o')\n",
    "plt.plot(range(1,20,2), test_scores, marker='x')\n",
    "plt.xlabel(\"k neighbors\")\n",
    "plt.ylabel(\"Testing Accuracy Score\")\n",
    "plt.show()\n",
    "print(train_score)\n",
    "print(test_score)"
   ]
  },
  {
   "cell_type": "code",
   "execution_count": 9,
   "id": "7b5cdd7c",
   "metadata": {},
   "outputs": [
    {
     "name": "stdout",
     "output_type": "stream",
     "text": [
      "k=11 Test Acc: 0.899\n"
     ]
    }
   ],
   "source": [
    "knn=KNeighborsClassifier(n_neighbors=11)\n",
    "knn.fit(x_train_scaled, y_train)\n",
    "print('k=11 Test Acc: %.3f' %knn.score(x_test_scaled, y_test))"
   ]
  }
 ],
 "metadata": {
  "kernelspec": {
   "display_name": "Python 3",
   "language": "python",
   "name": "python3"
  },
  "language_info": {
   "codemirror_mode": {
    "name": "ipython",
    "version": 3
   },
   "file_extension": ".py",
   "mimetype": "text/x-python",
   "name": "python",
   "nbconvert_exporter": "python",
   "pygments_lexer": "ipython3",
   "version": "3.8.8"
  }
 },
 "nbformat": 4,
 "nbformat_minor": 5
}

{
 "cells": [
  {
   "cell_type": "code",
   "execution_count": 1,
   "id": "948e5b84",
   "metadata": {},
   "outputs": [],
   "source": [
    "import matplotlib.pyplot as plt\n",
    "from sklearn.neighbors import KNeighborsClassifier\n",
    "from sklearn.model_selection import train_test_split\n",
    "import pandas as pd\n",
    "import numpy as np\n",
    "import os"
   ]
  },
  {
   "cell_type": "code",
   "execution_count": 2,
   "id": "3617535b",
   "metadata": {
    "scrolled": true
   },
   "outputs": [
    {
     "data": {
      "text/html": [
       "<div>\n",
       "<style scoped>\n",
       "    .dataframe tbody tr th:only-of-type {\n",
       "        vertical-align: middle;\n",
       "    }\n",
       "\n",
       "    .dataframe tbody tr th {\n",
       "        vertical-align: top;\n",
       "    }\n",
       "\n",
       "    .dataframe thead th {\n",
       "        text-align: right;\n",
       "    }\n",
       "</style>\n",
       "<table border=\"1\" class=\"dataframe\">\n",
       "  <thead>\n",
       "    <tr style=\"text-align: right;\">\n",
       "      <th></th>\n",
       "      <th>Binary_Class</th>\n",
       "      <th>Search Date</th>\n",
       "      <th>alcoholism</th>\n",
       "      <th>anxiety</th>\n",
       "      <th>athleisure</th>\n",
       "      <th>cutting hair</th>\n",
       "      <th>depression</th>\n",
       "      <th>dry cough</th>\n",
       "      <th>eczema</th>\n",
       "      <th>fever</th>\n",
       "      <th>...</th>\n",
       "      <th>instacart jobs</th>\n",
       "      <th>gig economy</th>\n",
       "      <th>stimmy</th>\n",
       "      <th>trump</th>\n",
       "      <th>biden</th>\n",
       "      <th>china</th>\n",
       "      <th>Current Hospitalized COVID-19 Patients</th>\n",
       "      <th>Total Doses Administered</th>\n",
       "      <th>Daily Increase</th>\n",
       "      <th>Number of Flights</th>\n",
       "    </tr>\n",
       "  </thead>\n",
       "  <tbody>\n",
       "    <tr>\n",
       "      <th>752</th>\n",
       "      <td>Low</td>\n",
       "      <td>2020-01-23</td>\n",
       "      <td>43</td>\n",
       "      <td>79</td>\n",
       "      <td>33</td>\n",
       "      <td>20</td>\n",
       "      <td>84</td>\n",
       "      <td>19</td>\n",
       "      <td>76</td>\n",
       "      <td>40</td>\n",
       "      <td>...</td>\n",
       "      <td>20</td>\n",
       "      <td>13</td>\n",
       "      <td>0</td>\n",
       "      <td>10</td>\n",
       "      <td>1</td>\n",
       "      <td>62</td>\n",
       "      <td>0.0</td>\n",
       "      <td>0.0</td>\n",
       "      <td>0.0</td>\n",
       "      <td>158666.0</td>\n",
       "    </tr>\n",
       "    <tr>\n",
       "      <th>751</th>\n",
       "      <td>Low</td>\n",
       "      <td>2020-01-24</td>\n",
       "      <td>52</td>\n",
       "      <td>78</td>\n",
       "      <td>42</td>\n",
       "      <td>22</td>\n",
       "      <td>75</td>\n",
       "      <td>16</td>\n",
       "      <td>72</td>\n",
       "      <td>38</td>\n",
       "      <td>...</td>\n",
       "      <td>14</td>\n",
       "      <td>14</td>\n",
       "      <td>0</td>\n",
       "      <td>10</td>\n",
       "      <td>1</td>\n",
       "      <td>75</td>\n",
       "      <td>0.0</td>\n",
       "      <td>0.0</td>\n",
       "      <td>0.0</td>\n",
       "      <td>179441.0</td>\n",
       "    </tr>\n",
       "    <tr>\n",
       "      <th>750</th>\n",
       "      <td>Low</td>\n",
       "      <td>2020-01-25</td>\n",
       "      <td>39</td>\n",
       "      <td>69</td>\n",
       "      <td>14</td>\n",
       "      <td>33</td>\n",
       "      <td>56</td>\n",
       "      <td>19</td>\n",
       "      <td>84</td>\n",
       "      <td>42</td>\n",
       "      <td>...</td>\n",
       "      <td>23</td>\n",
       "      <td>4</td>\n",
       "      <td>0</td>\n",
       "      <td>10</td>\n",
       "      <td>1</td>\n",
       "      <td>76</td>\n",
       "      <td>0.0</td>\n",
       "      <td>0.0</td>\n",
       "      <td>0.0</td>\n",
       "      <td>170708.0</td>\n",
       "    </tr>\n",
       "    <tr>\n",
       "      <th>749</th>\n",
       "      <td>Low</td>\n",
       "      <td>2020-01-26</td>\n",
       "      <td>38</td>\n",
       "      <td>69</td>\n",
       "      <td>41</td>\n",
       "      <td>23</td>\n",
       "      <td>55</td>\n",
       "      <td>16</td>\n",
       "      <td>61</td>\n",
       "      <td>39</td>\n",
       "      <td>...</td>\n",
       "      <td>21</td>\n",
       "      <td>12</td>\n",
       "      <td>0</td>\n",
       "      <td>9</td>\n",
       "      <td>1</td>\n",
       "      <td>67</td>\n",
       "      <td>0.0</td>\n",
       "      <td>0.0</td>\n",
       "      <td>0.0</td>\n",
       "      <td>174865.0</td>\n",
       "    </tr>\n",
       "    <tr>\n",
       "      <th>748</th>\n",
       "      <td>Low</td>\n",
       "      <td>2020-01-27</td>\n",
       "      <td>48</td>\n",
       "      <td>82</td>\n",
       "      <td>22</td>\n",
       "      <td>24</td>\n",
       "      <td>80</td>\n",
       "      <td>18</td>\n",
       "      <td>60</td>\n",
       "      <td>40</td>\n",
       "      <td>...</td>\n",
       "      <td>19</td>\n",
       "      <td>6</td>\n",
       "      <td>0</td>\n",
       "      <td>10</td>\n",
       "      <td>1</td>\n",
       "      <td>65</td>\n",
       "      <td>0.0</td>\n",
       "      <td>0.0</td>\n",
       "      <td>0.0</td>\n",
       "      <td>171934.0</td>\n",
       "    </tr>\n",
       "  </tbody>\n",
       "</table>\n",
       "<p>5 rows × 76 columns</p>\n",
       "</div>"
      ],
      "text/plain": [
       "    Binary_Class Search Date  alcoholism  anxiety  athleisure  cutting hair  \\\n",
       "752          Low  2020-01-23          43       79          33            20   \n",
       "751          Low  2020-01-24          52       78          42            22   \n",
       "750          Low  2020-01-25          39       69          14            33   \n",
       "749          Low  2020-01-26          38       69          41            23   \n",
       "748          Low  2020-01-27          48       82          22            24   \n",
       "\n",
       "     depression  dry cough  eczema  fever  ...  instacart jobs  gig economy  \\\n",
       "752          84         19      76     40  ...              20           13   \n",
       "751          75         16      72     38  ...              14           14   \n",
       "750          56         19      84     42  ...              23            4   \n",
       "749          55         16      61     39  ...              21           12   \n",
       "748          80         18      60     40  ...              19            6   \n",
       "\n",
       "     stimmy  trump  biden  china  Current Hospitalized COVID-19 Patients  \\\n",
       "752       0     10      1     62                                     0.0   \n",
       "751       0     10      1     75                                     0.0   \n",
       "750       0     10      1     76                                     0.0   \n",
       "749       0      9      1     67                                     0.0   \n",
       "748       0     10      1     65                                     0.0   \n",
       "\n",
       "     Total Doses Administered  Daily Increase  Number of Flights  \n",
       "752                       0.0             0.0           158666.0  \n",
       "751                       0.0             0.0           179441.0  \n",
       "750                       0.0             0.0           170708.0  \n",
       "749                       0.0             0.0           174865.0  \n",
       "748                       0.0             0.0           171934.0  \n",
       "\n",
       "[5 rows x 76 columns]"
      ]
     },
     "execution_count": 2,
     "metadata": {},
     "output_type": "execute_result"
    }
   ],
   "source": [
    "# binary trend model data\n",
    "binary_model = pd.read_csv(os.path.join(\"Resources\", \"Model Data\", \"binary_outcome_no_stock.csv\"))\n",
    "binary_model = binary_model.drop(columns = ['Unnamed: 0', 'Unnamed: 0.1', 'Date'])\n",
    "binary_model.dropna(inplace=True)\n",
    "binary_model.sort_values(by='Search Date').head()"
   ]
  },
  {
   "cell_type": "code",
   "execution_count": 3,
   "id": "57eb0197",
   "metadata": {},
   "outputs": [],
   "source": [
    "x = binary_model.drop([\"Binary_Class\", \"Search Date\"], axis=1)\n",
    "#x.head()\n",
    "binary_model.shape\n",
    "y = binary_model['Binary_Class']"
   ]
  },
  {
   "cell_type": "code",
   "execution_count": 4,
   "id": "42c9dec5",
   "metadata": {},
   "outputs": [],
   "source": [
    "#binary_model.tail()"
   ]
  },
  {
   "cell_type": "code",
   "execution_count": 5,
   "id": "ff082054",
   "metadata": {},
   "outputs": [],
   "source": [
    "#binary_model.info()"
   ]
  },
  {
   "cell_type": "code",
   "execution_count": 6,
   "id": "5373f6b6",
   "metadata": {},
   "outputs": [],
   "source": [
    "x_train, x_test, y_train, y_test = train_test_split(x, y, random_state=42)"
   ]
  },
  {
   "cell_type": "code",
   "execution_count": 7,
   "id": "d9b35d7e",
   "metadata": {},
   "outputs": [],
   "source": [
    "# scale the data\n",
    "from sklearn.preprocessing import StandardScaler\n",
    "\n",
    "x_scaler = StandardScaler().fit(x_train)"
   ]
  },
  {
   "cell_type": "code",
   "execution_count": 8,
   "id": "717a21ea",
   "metadata": {},
   "outputs": [],
   "source": [
    "# transform the training and testing data by using the x_scaler and y_sclaler models\n",
    "x_train_scaled = x_scaler.transform(x_train)\n",
    "x_trst_scaled = x_scaler.transform(x_test)"
   ]
  },
  {
   "cell_type": "code",
   "execution_count": 9,
   "id": "dfa2c5ab",
   "metadata": {},
   "outputs": [
    {
     "name": "stdout",
     "output_type": "stream",
     "text": [
      "k: 1, Train/Test Score: 1.000/0.823\n",
      "k: 3, Train/Test Score: 0.925/0.855\n",
      "k: 5, Train/Test Score: 0.887/0.849\n",
      "k: 7, Train/Test Score: 0.851/0.844\n",
      "k: 9, Train/Test Score: 0.846/0.860\n",
      "k: 11, Train/Test Score: 0.860/0.855\n",
      "k: 13, Train/Test Score: 0.864/0.882\n",
      "k: 15, Train/Test Score: 0.853/0.871\n",
      "k: 17, Train/Test Score: 0.842/0.876\n",
      "k: 19, Train/Test Score: 0.847/0.866\n"
     ]
    },
    {
     "data": {
      "image/png": "[encoded data removed]",
      "text/plain": [
       "<Figure size 432x288 with 1 Axes>"
      ]
     },
     "metadata": {
      "needs_background": "light"
     },
     "output_type": "display_data"
    },
    {
     "name": "stdout",
     "output_type": "stream",
     "text": [
      "0.8473967684021544\n",
      "0.8655913978494624\n"
     ]
    }
   ],
   "source": [
    "# loop through different k values to find which has the highest accuracy\n",
    "# only odd numbers\n",
    "train_scores =[]\n",
    "test_scores = []\n",
    "for k in range (1, 20,2):\n",
    "    knn = KNeighborsClassifier(n_neighbors=k)\n",
    "    knn.fit(x_train, y_train)\n",
    "    train_score = knn.score(x_train, y_train)\n",
    "    test_score = knn.score(x_test, y_test)\n",
    "    train_scores.append(train_score)\n",
    "    test_scores.append(test_score)\n",
    "    print(f\"k: {k}, Train/Test Score: {train_score:.3f}/{test_score:.3f}\")\n",
    "\n",
    "plt.plot(range(1,20,2), train_scores, marker='o')\n",
    "plt.plot(range(1,20,2), test_scores, marker='x')\n",
    "plt.xlabel(\"k neighbors\")\n",
    "plt.ylabel(\"Testing Accuracy Score\")\n",
    "plt.show()\n",
    "print(train_score)\n",
    "print(test_score)"
   ]
  },
  {
   "cell_type": "code",
   "execution_count": 12,
   "id": "f71046f4",
   "metadata": {},
   "outputs": [
    {
     "name": "stdout",
     "output_type": "stream",
     "text": [
      "k=11 Test Acc: 0.855\n"
     ]
    }
   ],
   "source": [
    "knn=KNeighborsClassifier(n_neighbors=11)\n",
    "knn.fit(x_train, y_train)\n",
    "print('k=11 Test Acc: %.3f' %knn.score(x_test, y_test))\n",
    "\n",
    "#new_binary_data = [[]]\n",
    "#predicted_class=knn.predict(new_binary_data)\n",
    "#print(predicted_class)"
   ]
  },
  {
   "cell_type": "code",
   "execution_count": null,
   "id": "0774219e",
   "metadata": {},
   "outputs": [],
   "source": []
  },
  {
   "cell_type": "code",
   "execution_count": null,
   "id": "9be087f3",
   "metadata": {},
   "outputs": [],
   "source": []
  }
 ],
 "metadata": {
  "kernelspec": {
   "display_name": "Python 3",
   "language": "python",
   "name": "python3"
  },
  "language_info": {
   "codemirror_mode": {
    "name": "ipython",
    "version": 3
   },
   "file_extension": ".py",
   "mimetype": "text/x-python",
   "name": "python",
   "nbconvert_exporter": "python",
   "pygments_lexer": "ipython3",
   "version": "3.8.8"
  }
 },
 "nbformat": 4,
 "nbformat_minor": 5
}
